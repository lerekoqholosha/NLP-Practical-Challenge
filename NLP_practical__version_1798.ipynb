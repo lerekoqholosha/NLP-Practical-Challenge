{
  "nbformat": 4,
  "nbformat_minor": 0,
  "metadata": {
    "colab": {
      "name": "NLP_practical__version-1798.ipynb",
      "provenance": [],
      "collapsed_sections": [],
      "toc_visible": true
    },
    "kernelspec": {
      "display_name": "Python 3",
      "language": "python",
      "name": "python3"
    },
    "language_info": {
      "codemirror_mode": {
        "name": "ipython",
        "version": 3
      },
      "file_extension": ".py",
      "mimetype": "text/x-python",
      "name": "python",
      "nbconvert_exporter": "python",
      "pygments_lexer": "ipython3",
      "version": "3.7.4"
    }
  },
  "cells": [
    {
      "cell_type": "markdown",
      "metadata": {
        "id": "yzh29UHiOGGh"
      },
      "source": [
        "# NLP Practical Test\n",
        "\n",
        "© Explore Data Science Academy\n",
        "\n",
        "The NLP practical test will take place within this Jupyter notebook. Each question will require you to write a function which will return the answer. This notebook will be graded automatically, so it is important that the names of any existing variables and functions are left unchanged.\n",
        "\n",
        "A shell function with the correct name for each question has already been defined for you. You will simply need to fill in the necessary code inside the function, as directed by the comments."
      ]
    },
    {
      "cell_type": "markdown",
      "metadata": {
        "id": "3QoNe8XwOGG8"
      },
      "source": [
        "## Honour Code\n",
        "\n",
        "I **YOUR NAME**, **YOUR SURNAME**, confirm - by submitting this document - that the solutions in this notebook are a result of my own work and that I abide by the EDSA honour code (https://drive.google.com/file/d/1QDCjGZJ8-FmJE3bZdIQNwnJyQKPhHZBn/view?usp=sharing).\n",
        "\n",
        "Non-compliance with the honour code constitutes a material breach of contract."
      ]
    },
    {
      "cell_type": "markdown",
      "metadata": {
        "id": "ZLmArzTLOGG_"
      },
      "source": [
        "#### Import Libraries and Read In the Data\n",
        "\n",
        "Do not modify or remove any of the code in these cells."
      ]
    },
    {
      "cell_type": "code",
      "metadata": {
        "colab": {
          "base_uri": "https://localhost:8080/"
        },
        "id": "GjH6OKXVOGHG",
        "outputId": "07220bb5-5ec3-4338-93e3-1f9d9f9659ff"
      },
      "source": [
        "import nltk\n",
        "from nltk import TreebankWordTokenizer, SnowballStemmer\n",
        "from nltk.stem import WordNetLemmatizer\n",
        "from nltk.corpus import stopwords\n",
        "import string\n",
        "import urllib\n",
        "\n",
        "nltk.download('wordnet')\n",
        "nltk.download('stopwords')"
      ],
      "execution_count": 1,
      "outputs": [
        {
          "output_type": "stream",
          "text": [
            "[nltk_data] Downloading package wordnet to /root/nltk_data...\n",
            "[nltk_data]   Unzipping corpora/wordnet.zip.\n",
            "[nltk_data] Downloading package stopwords to /root/nltk_data...\n",
            "[nltk_data]   Unzipping corpora/stopwords.zip.\n"
          ],
          "name": "stdout"
        },
        {
          "output_type": "execute_result",
          "data": {
            "text/plain": [
              "True"
            ]
          },
          "metadata": {
            "tags": []
          },
          "execution_count": 1
        }
      ]
    },
    {
      "cell_type": "code",
      "metadata": {
        "colab": {
          "base_uri": "https://localhost:8080/"
        },
        "id": "fMYwQ6BlOGHI",
        "outputId": "97e174ed-6d0d-4e71-82b9-c86f47445ede"
      },
      "source": [
        "# read in the data\n",
        "def print_some_url():\n",
        "    with urllib.request.urlopen('https://raw.githubusercontent.com/Explore-AI/Public-Data/master/Data/classification_sprint//alice_in_wonderland.txt') as f:\n",
        "        return f.read().decode('ISO-8859-1')\n",
        "\n",
        "data = print_some_url()\n",
        "print(data[:863])"
      ],
      "execution_count": 2,
      "outputs": [
        {
          "output_type": "stream",
          "text": [
            "Alice's Adventures in Wonderland\n",
            "\n",
            "                ALICE'S ADVENTURES IN WONDERLAND\n",
            "\n",
            "                          Lewis Carroll\n",
            "\n",
            "               THE MILLENNIUM FULCRUM EDITION 3.0\n",
            "\n",
            "\n",
            "\n",
            "\n",
            "                            CHAPTER I\n",
            "\n",
            "                      Down the Rabbit-Hole\n",
            "\n",
            "\n",
            "  Alice was beginning to get very tired of sitting by her sister\n",
            "on the bank, and of having nothing to do:  once or twice she had\n",
            "peeped into the book her sister was reading, but it had no\n",
            "pictures or conversations in it, `and what is the use of a book,'\n",
            "thought Alice `without pictures or conversation?'\n",
            "\n",
            "  So she was considering in her own mind (as well as she could,\n",
            "for the hot day made her feel very sleepy and stupid), whether\n",
            "the pleasure of making a daisy-chain would be worth the trouble\n",
            "of getting up and picking the daisies, when suddenly a White\n",
            "Rabbit with pink eyes ran close by her.\n",
            "\n",
            " \n"
          ],
          "name": "stdout"
        }
      ]
    },
    {
      "cell_type": "markdown",
      "metadata": {
        "id": "IfdYlY7qOGHR"
      },
      "source": [
        "#### Convert to lowercase and remove punctuation  \n",
        "\n",
        "Do not change or remove any of the code in these cells"
      ]
    },
    {
      "cell_type": "code",
      "metadata": {
        "id": "G20Zl_8ZOGHS"
      },
      "source": [
        "def remove_punctuation(words):\n",
        "    words = words.lower()\n",
        "    return ''.join([x for x in words if x not in string.punctuation])"
      ],
      "execution_count": 3,
      "outputs": []
    },
    {
      "cell_type": "code",
      "metadata": {
        "id": "M9haYtilOGHZ"
      },
      "source": [
        "data = remove_punctuation(data)"
      ],
      "execution_count": 4,
      "outputs": []
    },
    {
      "cell_type": "markdown",
      "metadata": {
        "id": "JDjL4YyXOGHa"
      },
      "source": [
        "#### Creating a bag of words and assigning our stemmer and lemmatizer\n",
        "\n",
        "Pay special attention to what these functions return and how the subsequent texts and lists look"
      ]
    },
    {
      "cell_type": "code",
      "metadata": {
        "id": "bQLpDxVcOGHb"
      },
      "source": [
        "# define stemmer function\n",
        "stemmer = SnowballStemmer('english')\n",
        "\n",
        "# tokenise data\n",
        "tokeniser = TreebankWordTokenizer()\n",
        "tokens = tokeniser.tokenize(data)\n",
        "\n",
        "# define lemmatiser\n",
        "lemmatizer = WordNetLemmatizer()\n",
        "\n",
        "# bag of words\n",
        "def bag_of_words_count(words, word_dict={}):\n",
        "    \"\"\" this function takes in a list of words and returns a dictionary \n",
        "        with each word as a key, and the value represents the number of \n",
        "        times that word appeared\"\"\"\n",
        "    for word in words:\n",
        "        if word in word_dict.keys():\n",
        "            word_dict[word] += 1\n",
        "        else:\n",
        "            word_dict[word] = 1\n",
        "    return word_dict\n",
        "\n",
        "# remove stopwords\n",
        "tokens_less_stopwords = [word for word in tokens if word not in stopwords.words('english')]\n",
        "\n",
        "# create bag of words\n",
        "bag_of_words = bag_of_words_count(tokens_less_stopwords)"
      ],
      "execution_count": 5,
      "outputs": []
    },
    {
      "cell_type": "code",
      "metadata": {
        "id": "a9e2pA03ZmMj"
      },
      "source": [
        ""
      ],
      "execution_count": null,
      "outputs": []
    },
    {
      "cell_type": "markdown",
      "metadata": {
        "id": "f5jXnq91OGHd"
      },
      "source": [
        "\n",
        "\n",
        "## Question 1"
      ]
    },
    {
      "cell_type": "markdown",
      "metadata": {
        "id": "BK5TtBO9OGHe"
      },
      "source": [
        "Use the stemmer and lemmatizer functions (defined in the cells above) from the relevant library to find the stem and lemma of the nth word in the token list.\n",
        "\n",
        "_**Function Specifications:**_\n",
        "* Should take a `list` as input and return a  `dict` type as output.\n",
        "* The dictionary should have the keys **'original',  'stem' and 'lemma'** with the corresponding values being the nth word transformed in that way."
      ]
    },
    {
      "cell_type": "code",
      "metadata": {
        "id": "wFMRhGZ7NK5L"
      },
      "source": [
        "### START FUNCTION\n",
        "def find_roots(token_list, n):\n",
        "    #your code here\n",
        "    word = token_list[n-1]\n",
        "    original = word\n",
        "    stem = stemmer.stem(word)\n",
        "    lemma = lemmatizer.lemmatize(word)\n",
        "    return {'original': original, 'stem': stem, 'lemma': lemma}\n",
        "### END FUNCTION"
      ],
      "execution_count": 8,
      "outputs": []
    },
    {
      "cell_type": "code",
      "metadata": {
        "id": "cPoOGRrqRUEL",
        "colab": {
          "base_uri": "https://localhost:8080/"
        },
        "outputId": "2aea5165-ae45-4496-9667-88bbcb255e91"
      },
      "source": [
        "find_roots(tokens, 120)\n"
      ],
      "execution_count": 9,
      "outputs": [
        {
          "output_type": "execute_result",
          "data": {
            "text/plain": [
              "{'lemma': 'daisy', 'original': 'daisies', 'stem': 'daisi'}"
            ]
          },
          "metadata": {
            "tags": []
          },
          "execution_count": 9
        }
      ]
    },
    {
      "cell_type": "markdown",
      "metadata": {
        "id": "9e0lccRmOGHg"
      },
      "source": [
        "_**Expected Outputs:**_\n",
        "```python\n",
        "find_roots(tokens, 120) == \n",
        "{'original': 'daisies', \n",
        "'stem': 'daisi', \n",
        "'lemma': 'daisy'}\n",
        "```\n"
      ]
    },
    {
      "cell_type": "markdown",
      "metadata": {
        "id": "4caN9DKjOGHh"
      },
      "source": [
        "## Question 2"
      ]
    },
    {
      "cell_type": "markdown",
      "metadata": {
        "id": "CJwV3Y7-OGHh"
      },
      "source": [
        "How many stopwords are in the text in total?   \n",
        "\n",
        "_Hint_ : you can use the nltk stopwords dictionary \n",
        "\n",
        "_**Function Specifications:**_\n",
        "* Function should take a `list` as input \n",
        "* The number of stopwords should be returned as an `int` "
      ]
    },
    {
      "cell_type": "code",
      "metadata": {
        "id": "W9Kthk4cNYCD"
      },
      "source": [
        "### START FUNCTION\n",
        "def count_stopwords(token_list):\n",
        "    #your code here\n",
        "    stop_words = [word for word in token_list if word in stopwords.words('english')]\n",
        "    return len(stop_words)\n",
        "### END FUNCTION"
      ],
      "execution_count": 10,
      "outputs": []
    },
    {
      "cell_type": "code",
      "metadata": {
        "id": "ZZfmUWjyceXQ",
        "colab": {
          "base_uri": "https://localhost:8080/"
        },
        "outputId": "a9b8c7c0-52d0-4f87-a875-bbaefd9a6b7f"
      },
      "source": [
        "count_stopwords(tokens)"
      ],
      "execution_count": 11,
      "outputs": [
        {
          "output_type": "execute_result",
          "data": {
            "text/plain": [
              "13774"
            ]
          },
          "metadata": {
            "tags": []
          },
          "execution_count": 11
        }
      ]
    },
    {
      "cell_type": "markdown",
      "metadata": {
        "id": "kzDeHQYjOGHp"
      },
      "source": [
        "_**Expected output:**_\n",
        "\n",
        "```python\n",
        "count_stopwords(tokens) == 13774\n",
        "```"
      ]
    },
    {
      "cell_type": "markdown",
      "metadata": {
        "id": "y2S1yL3xOGHq"
      },
      "source": [
        "## Question 3\n",
        "\n",
        "How many **unique** words are in the text?\n",
        "\n",
        "_**Function Specifications:**_\n",
        "* Function should take a `list` as input and return an `int` "
      ]
    },
    {
      "cell_type": "code",
      "metadata": {
        "id": "rorOrJ-URuRD"
      },
      "source": [
        "### START FUNCTION\n",
        "def unique_words(token_list):\n",
        "  #your code here\n",
        "  unique = set(token_list)\n",
        "\n",
        "  return len(unique)\n",
        "### END FUNCTION"
      ],
      "execution_count": 12,
      "outputs": []
    },
    {
      "cell_type": "code",
      "metadata": {
        "colab": {
          "base_uri": "https://localhost:8080/"
        },
        "id": "1uaJ71ztH6o-",
        "outputId": "341daa56-0e9d-457c-c54b-a9cfb1e8b700"
      },
      "source": [
        "unique_words(tokens)"
      ],
      "execution_count": 14,
      "outputs": [
        {
          "output_type": "execute_result",
          "data": {
            "text/plain": [
              "2749"
            ]
          },
          "metadata": {
            "tags": []
          },
          "execution_count": 14
        }
      ]
    },
    {
      "cell_type": "markdown",
      "metadata": {
        "id": "txSOZJifOGHs"
      },
      "source": [
        "_**Expected output:**_\n",
        "\n",
        "```python\n",
        "unique_words(tokens) == 2749\n",
        "```"
      ]
    },
    {
      "cell_type": "markdown",
      "metadata": {
        "id": "w7xTckXIOGHu"
      },
      "source": [
        "## Question 4"
      ]
    },
    {
      "cell_type": "markdown",
      "metadata": {
        "id": "B82U3b1ZOGHw"
      },
      "source": [
        "What is the kth most frequently occuring word in the bag of words?\n",
        "\n",
        "_**Function Specifications:**_\n",
        "* Function should take a `dict` and an `int` k as input\n",
        "* Function should return the kth most common word as a `str`\n",
        "\n",
        "_Hint : bag_of_words already does not include stopwords_\n",
        "\n",
        "Example: \n",
        "```python\n",
        "most_common_word(bag = {'apple': 30, 'orange': 12, 'pear': 50, 'banana': 12}, 2)\n",
        "\n",
        ">>> 'apple'\n",
        "```"
      ]
    },
    {
      "cell_type": "code",
      "metadata": {
        "id": "LWpvDTABNydQ"
      },
      "source": [
        "### START FUNCTION\n",
        "def most_common_word(bag, k):\n",
        "    # your code here\n",
        "    from collections import Counter\n",
        "    word_counts = Counter(bag)\n",
        "    top_k = word_counts.most_common(k)\n",
        "    return (top_k[-1][0])\n",
        "\n",
        "\n",
        "### END FUNCTION"
      ],
      "execution_count": 52,
      "outputs": []
    },
    {
      "cell_type": "code",
      "metadata": {
        "id": "3DJWNUHMOGH3",
        "colab": {
          "base_uri": "https://localhost:8080/",
          "height": 35
        },
        "outputId": "303c9f67-786d-4b0a-f187-28399d0c709d"
      },
      "source": [
        "most_common_word(bag_of_words, 3) "
      ],
      "execution_count": 56,
      "outputs": [
        {
          "output_type": "execute_result",
          "data": {
            "application/vnd.google.colaboratory.intrinsic+json": {
              "type": "string"
            },
            "text/plain": [
              "'little'"
            ]
          },
          "metadata": {
            "tags": []
          },
          "execution_count": 56
        }
      ]
    },
    {
      "cell_type": "markdown",
      "metadata": {
        "id": "7CWq-o76OGH6"
      },
      "source": [
        "_**Expected output:**_\n",
        "\n",
        "```python\n",
        "most_common_word(bag_of_words, 3) == 'little'\n",
        "\n",
        "```"
      ]
    },
    {
      "cell_type": "markdown",
      "metadata": {
        "id": "qjsrh7OjOGH9"
      },
      "source": [
        "## Question 5\n",
        "\n",
        "How many words appear n times in the text?\n",
        "\n",
        "_**Function Specifications:**_\n",
        "* Input is taken as a `dict` and an `int` n, where n is the number of times the word appears in the text\n",
        "* Count the number of words that appear n times in the text\n",
        "* Output should be the count as an `int`\n",
        "\n",
        "Example: \n",
        "```python\n",
        "word_frequency_count(bag = {'apple': 30, 'orange': 12, 'pear': 50, 'banana': 12}, 12)\n",
        "\n",
        ">>> 2\n",
        "```"
      ]
    },
    {
      "cell_type": "code",
      "metadata": {
        "id": "5x7DaJ3HN_qX"
      },
      "source": [
        "### START FUNCTION\n",
        "def word_frequency_count(bag, n):\n",
        "    # your code here\n",
        "    from collections import Counter\n",
        "    #Calculateing frequency using counter\n",
        "    m = Counter(bag)\n",
        "    \n",
        "    count = 0\n",
        "    #Traversing in freq dictionary\n",
        "    for i in m:\n",
        "        if m[i] == n:\n",
        "            count += 1\n",
        "    return count\n",
        "    \n",
        "### END FUNCTION"
      ],
      "execution_count": 17,
      "outputs": []
    },
    {
      "cell_type": "code",
      "metadata": {
        "colab": {
          "base_uri": "https://localhost:8080/"
        },
        "id": "Gubp5-kZOD5h",
        "outputId": "e12263eb-b241-4b97-9672-34c1c3978281"
      },
      "source": [
        "word_frequency_count(bag_of_words, 5)"
      ],
      "execution_count": 19,
      "outputs": [
        {
          "output_type": "execute_result",
          "data": {
            "text/plain": [
              "97"
            ]
          },
          "metadata": {
            "tags": []
          },
          "execution_count": 19
        }
      ]
    },
    {
      "cell_type": "code",
      "metadata": {
        "colab": {
          "base_uri": "https://localhost:8080/"
        },
        "id": "CsOaypIzOVon",
        "outputId": "127d203e-5756-43ea-a0bb-a9b746698d54"
      },
      "source": [
        "word_frequency_count(bag_of_words, 8)"
      ],
      "execution_count": 20,
      "outputs": [
        {
          "output_type": "execute_result",
          "data": {
            "text/plain": [
              "49"
            ]
          },
          "metadata": {
            "tags": []
          },
          "execution_count": 20
        }
      ]
    },
    {
      "cell_type": "markdown",
      "metadata": {
        "id": "0-Rk1B8wOGIG"
      },
      "source": [
        "_**Expected output:**_\n",
        "\n",
        "```python\n",
        "most_common_word(bag_of_words, 5) == 97\n",
        "most_common_word(bag_of_words, 8) == 49\n",
        "\n",
        "```"
      ]
    }
  ]
}